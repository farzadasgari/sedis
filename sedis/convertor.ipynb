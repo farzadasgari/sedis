{
 "cells": [
  {
   "cell_type": "code",
   "execution_count": 1,
   "id": "27876d9d-016f-4df5-8332-44c49358612a",
   "metadata": {},
   "outputs": [],
   "source": [
    "import pandas as pd\n",
    "import numpy as np\n",
    "\n",
    "# Read the datasets\n",
    "df_field = pd.read_csv('../dataset/field.csv')\n",
    "df_satel = pd.read_csv('../dataset/sentinel.csv')\n",
    "\n",
    "# Convert Date columns to datetime\n",
    "df_field['Date'] = pd.to_datetime(df_field['Date'])\n",
    "df_satel['Date'] = pd.to_datetime(df_satel['Date'])"
   ]
  },
  {
   "cell_type": "code",
   "execution_count": 2,
   "id": "dce4418d-78aa-45e7-b116-369dd40afe16",
   "metadata": {},
   "outputs": [],
   "source": [
    "# Convert USGS units to SI units\n",
    "# Discharge: cfs to m³/s (1 cfs = 0.0283168 m³/s)\n",
    "df_field['Discharge'] = df_field['Discharge'] * 0.0283168\n",
    "\n",
    "# Height: feet to meters (1 foot = 0.3048 m)\n",
    "df_field['Height'] = df_field['Height'] * 0.3048"
   ]
  },
  {
   "cell_type": "code",
   "execution_count": 3,
   "id": "8369b152-5503-41c3-a80d-576b2c7b8a38",
   "metadata": {},
   "outputs": [],
   "source": [
    "# Merge the datasets on Date (inner join)\n",
    "merged_df = pd.merge(df_field, df_satel, on='Date', how='inner')"
   ]
  },
  {
   "cell_type": "markdown",
   "id": "135d5743-b7cb-4133-9b21-70667990d307",
   "metadata": {},
   "source": [
    "# Compute satellite band combination indices\n",
    "\n",
    "- **MNDWI, NDWI:** Water body delineation and inundation.\n",
    "- **GNDVI:** Vegetation/algae health (relevant for Chl-a).\n",
    "- **SDDI:** Secchi disk depth.\n",
    "- **NDTI:** Turbidity/total suspended matter.\n",
    "- **BR:** Water clarity.\n",
    "- **NDPI:** Pond/standing water (adaptable for river segments).\n",
    "- **NDCI:** Chlorophyll-a concentration."
   ]
  },
  {
   "cell_type": "code",
   "execution_count": 4,
   "id": "855fc9b3-e411-4178-b494-2792215bcade",
   "metadata": {},
   "outputs": [],
   "source": [
    "# MNDWI = (Green - SWIR) / (Green + SWIR) = (B3 - B11) / (B3 + B11)\n",
    "merged_df['MNDWI'] = (merged_df['B3'] - merged_df['B11']) / (merged_df['B3'] + merged_df['B11'])\n",
    "\n",
    "# GNDVI = (NIR - Green) / (NIR + Green) = (B8 - B3) / (B8 + B3)\n",
    "merged_df['GNDVI'] = (merged_df['B8'] - merged_df['B3']) / (merged_df['B8'] + merged_df['B3'])\n",
    "\n",
    "# SDDI = Log(Green/Red) = Log(B3 / B4)\n",
    "merged_df['SDDI'] = np.log(merged_df['B3'] / merged_df['B4'])\n",
    "\n",
    "# NDTI = (Red - Green) / (Red + Green) = (B4 - B3) / (B4 + B3)\n",
    "merged_df['NDTI'] = (merged_df['B4'] - merged_df['B3']) / (merged_df['B4'] + merged_df['B3'])\n",
    "\n",
    "# BR = (Blue / Red) = B2 / B4\n",
    "merged_df['BR'] = merged_df['B2'] / merged_df['B4']\n",
    "\n",
    "# NDWI = (Green - NIR) / (Green + NIR) = (B3 - B8) / (B3 + B8)\n",
    "merged_df['NDWI'] = (merged_df['B3'] - merged_df['B8']) / (merged_df['B3'] + merged_df['B8'])\n",
    "\n",
    "# NDPI = (SWIR - Green) / (SWIR + Green) = (B11 - B3) / (B11 + B3)\n",
    "merged_df['NDPI'] = (merged_df['B11'] - merged_df['B3']) / (merged_df['B11'] + merged_df['B3'])\n",
    "\n",
    "# NDCI = (RedEdge1 - Red) / (RedEdge1 + Red) = (B5 - B4) / (B5 + B4)\n",
    "merged_df['NDCI'] = (merged_df['B5'] - merged_df['B4']) / (merged_df['B5'] + merged_df['B4'])\n",
    "\n",
    "# 2BDA (2-Band Difference Algorithm) for Chlorophyll-a Proxy: B5 - B4\n",
    "merged_df['2BDA_Chl'] = merged_df['B5'] - merged_df['B4']\n",
    "\n",
    "# Red Edge / Red ratio for turbidity/sediment: B5 / B4\n",
    "merged_df['RedEdge_Red_Ratio'] = merged_df['B5'] / merged_df['B4']"
   ]
  },
  {
   "cell_type": "code",
   "execution_count": 5,
   "id": "51d09e42-9698-416e-8d5f-81c3fa3dd200",
   "metadata": {},
   "outputs": [
    {
     "name": "stdout",
     "output_type": "stream",
     "text": [
      "Merged data with unit conversions and indices exported.\n"
     ]
    }
   ],
   "source": [
    "field_cols = [col for col in df_field.columns if col != 'Date']\n",
    "satel_cols = [col for col in df_satel.columns if col != 'Date']\n",
    "index_cols = [col for col in merged_df.columns if col.startswith(('MNDWI', 'GNDVI', 'SDDI', 'NDTI', 'BR', 'NDWI', 'NDPI', 'NDCI', '2BDA_Chl', 'RedEdge_Red_Ratio'))]\n",
    "\n",
    "merged_df = merged_df[['Date'] + field_cols + satel_cols + index_cols]\n",
    "\n",
    "merged_df.to_csv('../dataset/data.csv', index=False)\n",
    "print(\"Merged data with unit conversions and indices exported.\")"
   ]
  }
 ],
 "metadata": {
  "kernelspec": {
   "display_name": "Python 3 (ipykernel)",
   "language": "python",
   "name": "python3"
  },
  "language_info": {
   "codemirror_mode": {
    "name": "ipython",
    "version": 3
   },
   "file_extension": ".py",
   "mimetype": "text/x-python",
   "name": "python",
   "nbconvert_exporter": "python",
   "pygments_lexer": "ipython3",
   "version": "3.12.9"
  }
 },
 "nbformat": 4,
 "nbformat_minor": 5
}
